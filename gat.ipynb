{
 "cells": [
  {
   "cell_type": "code",
   "execution_count": 27,
   "metadata": {},
   "outputs": [],
   "source": [
    "import dgl\n",
    "from dgl.data import citation_graph as citegrh\n",
    "import torch\n",
    "import numpy as np\n",
    "from typing import List"
   ]
  },
  {
   "cell_type": "code",
   "execution_count": 41,
   "metadata": {},
   "outputs": [],
   "source": [
    "import importlib\n",
    "import packages.transformer.data as transformer_data\n",
    "importlib.reload(transformer_data)\n",
    "\n",
    "from packages.transformer.data import construct_batch, TransformerGraphBundleInput"
   ]
  },
  {
   "cell_type": "code",
   "execution_count": 4,
   "metadata": {},
   "outputs": [
    {
     "name": "stdout",
     "output_type": "stream",
     "text": [
      "  NumNodes: 2708\n",
      "  NumEdges: 10556\n",
      "  NumFeats: 1433\n",
      "  NumClasses: 7\n",
      "  NumTrainingSamples: 140\n",
      "  NumValidationSamples: 500\n",
      "  NumTestSamples: 1000\n",
      "Done loading data from cached files.\n"
     ]
    }
   ],
   "source": [
    "data = citegrh.load_cora()\n",
    "graph = data[0]\n",
    "adj = graph.adj(scipy_fmt='coo')\n",
    "graph = dgl.graph((adj.row, adj.col)).to('cuda')"
   ]
  },
  {
   "cell_type": "code",
   "execution_count": 5,
   "metadata": {},
   "outputs": [],
   "source": [
    "adj = (graph.adj(scipy_fmt='coo'))"
   ]
  },
  {
   "cell_type": "code",
   "execution_count": 10,
   "metadata": {},
   "outputs": [
    {
     "name": "stderr",
     "output_type": "stream",
     "text": [
      "/home/fsamir/anaconda3/lib/python3.9/site-packages/dgl/data/utils.py:288: UserWarning: Property dataset.feat will be deprecated, please use g.ndata['feat'] instead.\n",
      "  warnings.warn('Property {} will be deprecated, please use {} instead.'.format(old, new))\n",
      "/tmp/ipykernel_23301/325395223.py:1: UserWarning: To copy construct from a tensor, it is recommended to use sourceTensor.clone().detach() or sourceTensor.clone().detach().requires_grad_(True), rather than torch.tensor(sourceTensor).\n",
      "  features = torch.tensor(data.features, device='cuda')\n",
      "/home/fsamir/anaconda3/lib/python3.9/site-packages/dgl/data/utils.py:288: UserWarning: Property dataset.label will be deprecated, please use g.ndata['label'] instead.\n",
      "  warnings.warn('Property {} will be deprecated, please use {} instead.'.format(old, new))\n"
     ]
    }
   ],
   "source": [
    "features = torch.tensor(data.features, device='cuda')\n",
    "labels = torch.tensor(data.labels, device='cuda')"
   ]
  },
  {
   "cell_type": "code",
   "execution_count": 7,
   "metadata": {},
   "outputs": [
    {
     "name": "stderr",
     "output_type": "stream",
     "text": [
      "/home/fsamir/anaconda3/lib/python3.9/site-packages/dgl/data/utils.py:288: UserWarning: Property dataset.train_mask will be deprecated, please use g.ndata['train_mask'] instead.\n",
      "  warnings.warn('Property {} will be deprecated, please use {} instead.'.format(old, new))\n"
     ]
    }
   ],
   "source": [
    "train_mask = torch.BoolTensor(data.train_mask)\n",
    "sampler = dgl.dataloading.MultiLayerNeighborSampler([3, 3])\n",
    "train_nids = (torch.arange(0, graph.number_of_nodes())[train_mask]).to('cuda')\n",
    "dataloader = dgl.dataloading.DataLoader(\n",
    "    graph, train_nids, sampler,\n",
    "    batch_size=64,\n",
    "    shuffle=True,\n",
    "    drop_last=False,\n",
    "    num_workers=0)"
   ]
  },
  {
   "cell_type": "code",
   "execution_count": 8,
   "metadata": {},
   "outputs": [],
   "source": [
    "loader_iter = iter(dataloader)"
   ]
  },
  {
   "cell_type": "code",
   "execution_count": 9,
   "metadata": {},
   "outputs": [],
   "source": [
    "input_nodes_fb, output_nodes_fb, mfgs_fb = next(loader_iter)\n",
    "input_nodes_sb, output_nodes_sb, mfgs_sb = next(loader_iter)"
   ]
  },
  {
   "cell_type": "code",
   "execution_count": 12,
   "metadata": {},
   "outputs": [],
   "source": [
    "input_graph_bundle_fb = construct_batch(output_nodes_fb, input_nodes_fb, mfgs_fb, features, labels, 'cpu')\n",
    "input_graph_bundle_sb = construct_batch(output_nodes_sb, input_nodes_sb, mfgs_sb, features, labels, 'cpu')"
   ]
  },
  {
   "cell_type": "code",
   "execution_count": 22,
   "metadata": {},
   "outputs": [],
   "source": [
    "def pad_graph_bundle(graph_bundle: TransformerGraphBundleInput) -> None: # WARNING: mutates graph bundle object\n",
    "    src_mask = graph_bundle.src_mask.squeeze(0) \n",
    "    size_subgraph = src_mask.shape[1]\n",
    "    padded_src_mask = torch.zeros((src_mask.shape[0], 512, 512))\n",
    "    padded_src_mask[:, : size_subgraph, : size_subgraph] = src_mask\n",
    "\n",
    "    src_feats = graph_bundle.src_feats.squeeze(0)\n",
    "    padded_src_feats = torch.zeros((512, src_feats.shape[-1]))\n",
    "    padded_src_feats[: size_subgraph, :src_feats.shape[-1]] = src_feats\n",
    "    graph_bundle.src_feats = padded_src_feats.unsqueeze(0)\n",
    "    graph_bundle.src_mask = padded_src_mask.unsqueeze(0)\n"
   ]
  },
  {
   "cell_type": "code",
   "execution_count": 42,
   "metadata": {},
   "outputs": [],
   "source": [
    "def stack_graph_bundles(graph_bundles: List[TransformerGraphBundleInput]) -> TransformerGraphBundleInput:\n",
    "    src_masks = torch.cat([graph_bundle.src_mask for graph_bundle in graph_bundles])\n",
    "    src_feats = torch.cat([graph_bundle.src_feats for graph_bundle in graph_bundles])\n",
    "    trg_labels = torch.cat([graph_bundle.trg_labels for graph_bundle in graph_bundles])\n",
    "    train_inds = torch.cat([graph_bundle.train_inds for graph_bundle in graph_bundles])\n",
    "    return TransformerGraphBundleInput(src_feats, trg_labels, src_masks, train_inds, 'cpu')"
   ]
  },
  {
   "cell_type": "code",
   "execution_count": 23,
   "metadata": {},
   "outputs": [],
   "source": [
    "pad_graph_bundle(input_graph_bundle_fb)"
   ]
  },
  {
   "cell_type": "code",
   "execution_count": 29,
   "metadata": {},
   "outputs": [],
   "source": [
    "pad_graph_bundle(input_graph_bundle_sb)\n"
   ]
  },
  {
   "cell_type": "code",
   "execution_count": 43,
   "metadata": {},
   "outputs": [],
   "source": [
    "stacked_graph_bundle = stack_graph_bundles([input_graph_bundle_fb, input_graph_bundle_sb])"
   ]
  },
  {
   "cell_type": "code",
   "execution_count": 45,
   "metadata": {},
   "outputs": [
    {
     "name": "stdout",
     "output_type": "stream",
     "text": [
      "128\n",
      "torch.Size([2, 64])\n",
      "torch.Size([2, 512, 1433])\n",
      "torch.Size([2, 2, 512, 512])\n"
     ]
    }
   ],
   "source": [
    "stacked_graph_bundle.ntokens\n",
    "print(stacked_graph_bundle.ntokens)\n",
    "print(stacked_graph_bundle.train_inds.shape)\n",
    "print(stacked_graph_bundle.src_feats.shape)\n",
    "print(stacked_graph_bundle.src_mask.shape)"
   ]
  }
 ],
 "metadata": {
  "interpreter": {
   "hash": "d4ebfc88ccd97cb231efe00c7198020b2ae0235bcff1ce31852dbbe06876d933"
  },
  "kernelspec": {
   "display_name": "Python 3.9.12 ('base')",
   "language": "python",
   "name": "python3"
  },
  "language_info": {
   "codemirror_mode": {
    "name": "ipython",
    "version": 3
   },
   "file_extension": ".py",
   "mimetype": "text/x-python",
   "name": "python",
   "nbconvert_exporter": "python",
   "pygments_lexer": "ipython3",
   "version": "3.9.12"
  },
  "orig_nbformat": 4
 },
 "nbformat": 4,
 "nbformat_minor": 2
}
