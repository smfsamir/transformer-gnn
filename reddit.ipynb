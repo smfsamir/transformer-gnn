{
 "cells": [
  {
   "cell_type": "code",
   "execution_count": 40,
   "metadata": {},
   "outputs": [],
   "source": [
    "import dgl\n",
    "import numpy as np\n",
    "import torch\n",
    "import scipy as sp\n",
    "from dgl.heterograph import DGLBlock"
   ]
  },
  {
   "cell_type": "code",
   "execution_count": 80,
   "metadata": {},
   "outputs": [
    {
     "data": {
      "text/plain": [
       "<module 'packages.transformer.data' from '/home/fsamir/gnn/packages/transformer/data.py'>"
      ]
     },
     "execution_count": 80,
     "metadata": {},
     "output_type": "execute_result"
    }
   ],
   "source": [
    "import importlib\n",
    "import packages.data_management.pkl_io as pkl_io\n",
    "import packages.transformer.data as transformer_data \n",
    "importlib.reload(pkl_io)\n",
    "importlib.reload(transformer_data)\n",
    "# import packages.utils.sp_utils as sp_utils\n",
    "# importlib.reload(sp_utils)\n"
   ]
  },
  {
   "cell_type": "code",
   "execution_count": 81,
   "metadata": {},
   "outputs": [],
   "source": [
    "# Local imports \n",
    "from packages.data_management.pkl_io import save_pkl, load_pkl_from_path, load_npy, save_npy\n",
    "from packages.utils.sp_utils import select_submatrix, convert_scipy_sparse_to_torch\n",
    "from packages.transformer.data import retrieve_features_for_minibatch, retrieve_labels_for_minibatch, TransformerGraphBundleInput\n",
    "from packages.transformer.encoder_decoder import make_model"
   ]
  },
  {
   "cell_type": "code",
   "execution_count": 3,
   "metadata": {},
   "outputs": [],
   "source": [
    "def load_reddit_adj(path=\"data/reddit_cpr\", fname=\"reddit_adj_coo.npz\"):\n",
    "    adj = sp.sparse.load_npz(f'{path}/{fname}')\n",
    "    return adj\n",
    "\n",
    "def load_reddit_feats(path=\"data/reddit_cpr\", fname=\"reddit_feats.npy\"):\n",
    "    with open(f\"{path}/{fname}\", \"rb\") as f:\n",
    "        feats = np.load(f)\n",
    "        return feats\n",
    "\n",
    "def load_reddit_labels(path=\"data/reddit_cpr\", fname=\"reddit_labels.npy\"):\n",
    "    with open(f\"{path}/{fname}\", \"rb\") as f:\n",
    "        labels = np.load(f)\n",
    "        return labels \n",
    "\n",
    "def load_reddit_masks(path=\"data/reddit_cpr\", fname=\"reddit_masks.npy\"):\n",
    "    with open(f\"{path}/{fname}\", \"rb\") as f:\n",
    "        masks = np.load(f)\n",
    "        return masks "
   ]
  },
  {
   "cell_type": "code",
   "execution_count": 3,
   "metadata": {},
   "outputs": [
    {
     "name": "stdout",
     "output_type": "stream",
     "text": [
      "(232965, 232965)\n"
     ]
    }
   ],
   "source": [
    "adj_sparse = load_reddit_adj()\n",
    "print(adj_sparse.shape)"
   ]
  },
  {
   "cell_type": "code",
   "execution_count": 33,
   "metadata": {},
   "outputs": [
    {
     "name": "stdout",
     "output_type": "stream",
     "text": [
      "(232965, 602)\n"
     ]
    }
   ],
   "source": [
    "feats = load_reddit_feats()\n",
    "print(feats.shape)"
   ]
  },
  {
   "cell_type": "code",
   "execution_count": 5,
   "metadata": {},
   "outputs": [
    {
     "name": "stdout",
     "output_type": "stream",
     "text": [
      "(3, 232965)\n"
     ]
    }
   ],
   "source": [
    "masks = load_reddit_masks()\n",
    "print(masks.shape)"
   ]
  },
  {
   "cell_type": "code",
   "execution_count": 63,
   "metadata": {},
   "outputs": [
    {
     "name": "stdout",
     "output_type": "stream",
     "text": [
      "(232965,)\n"
     ]
    }
   ],
   "source": [
    "labels = load_reddit_labels()\n",
    "print(labels.shape)"
   ]
  },
  {
   "cell_type": "code",
   "execution_count": 6,
   "metadata": {},
   "outputs": [],
   "source": [
    "all_ids = np.arange(masks.shape[1])\n",
    "train_ids = all_ids[masks[0,:]]"
   ]
  },
  {
   "cell_type": "code",
   "execution_count": 7,
   "metadata": {},
   "outputs": [],
   "source": [
    "graph = dgl.graph((adj_sparse.row, adj_sparse.col))\n"
   ]
  },
  {
   "cell_type": "code",
   "execution_count": 8,
   "metadata": {},
   "outputs": [],
   "source": [
    "sampler = dgl.dataloading.MultiLayerNeighborSampler([5, 5])\n",
    "dataloader = dgl.dataloading.DataLoader(\n",
    "    graph, train_ids, sampler,\n",
    "    batch_size=64,\n",
    "    shuffle=True,\n",
    "    drop_last=False,\n",
    "    num_workers=0)"
   ]
  },
  {
   "cell_type": "code",
   "execution_count": 82,
   "metadata": {},
   "outputs": [],
   "source": [
    "from torch import square\n",
    "\n",
    "def convert_mfg_to_sg_adj(mfg: DGLBlock, square_shape: int):\n",
    "    sparse_adj = mfg.adj()\n",
    "    square_adj = torch.sparse_coo_tensor(sparse_adj._indices(), sparse_adj._values(), size=(square_shape, square_shape)) \n",
    "    # square_adj = torch.zeros((square_shape, square_shape))\n",
    "    # indices = sparse_adj._indices() \n",
    "    # print(indices.shape)\n",
    "    # values = sparse_adj._values()\n",
    "    # print(values.shape)\n",
    "    # print(square_adj.shape)\n",
    "    # square_adj[indices] = values\n",
    "    return square_adj.to_dense()\n",
    "\n",
    "def construct_batch(target_nodes, subgraph_nodes, mfgs, features, labels, device):\n",
    "    first_layer_mfg = mfgs[0]\n",
    "    second_layer_mfg = mfgs[1]\n",
    "\n",
    "    first_layer_adj_submatrix = convert_mfg_to_sg_adj(first_layer_mfg, subgraph_nodes.shape[0]) + torch.eye(subgraph_nodes.shape[0], device=device) \n",
    "    second_layer_adj_submatrix = convert_mfg_to_sg_adj(second_layer_mfg, subgraph_nodes.shape[0]) + torch.eye(subgraph_nodes.shape[0], device=device) \n",
    "    \n",
    "    minibatch_adjacencies = torch.stack((first_layer_adj_submatrix, second_layer_adj_submatrix))\n",
    "    all_minibatch_feats = features[subgraph_nodes, :]\n",
    "\n",
    "    all_minibatch_feats = all_minibatch_feats.unsqueeze(0)\n",
    "    minibatch_adjacencies = minibatch_adjacencies.unsqueeze(0)\n",
    "    minibatch_labels = labels[target_nodes].unsqueeze(0)\n",
    "    output_node_inds = target_nodes.unsqueeze(0)\n",
    "\n",
    "    minibatch = TransformerGraphBundleInput(all_minibatch_feats, minibatch_labels, minibatch_adjacencies, output_node_inds, device)\n",
    "    return minibatch"
   ]
  },
  {
   "cell_type": "code",
   "execution_count": 9,
   "metadata": {},
   "outputs": [],
   "source": [
    "dataloader_iter = iter(dataloader)\n",
    "input_nodes, output_nodes, mfgs = next(dataloader_iter) # input nodes gives us the requisite features. The mfgs gives us the requisite attention mask"
   ]
  },
  {
   "cell_type": "code",
   "execution_count": 70,
   "metadata": {},
   "outputs": [],
   "source": [
    "unique_labels = torch.Tensor(labels).unique()"
   ]
  },
  {
   "cell_type": "code",
   "execution_count": 83,
   "metadata": {},
   "outputs": [
    {
     "ename": "TypeError",
     "evalue": "__init__() missing 1 required positional argument: 'device'",
     "output_type": "error",
     "traceback": [
      "\u001b[0;31m---------------------------------------------------------------------------\u001b[0m",
      "\u001b[0;31mTypeError\u001b[0m                                 Traceback (most recent call last)",
      "\u001b[1;32m/home/fsamir/gnn/reddit.ipynb Cell 15\u001b[0m in \u001b[0;36m<cell line: 5>\u001b[0;34m()\u001b[0m\n\u001b[1;32m      <a href='vscode-notebook-cell://wsl%2Bubuntu/home/fsamir/gnn/reddit.ipynb#ch0000013vscode-remote?line=1'>2</a>\u001b[0m all_sg_nodes \u001b[39m=\u001b[39m mfgs[\u001b[39m0\u001b[39m]\u001b[39m.\u001b[39msrcdata[dgl\u001b[39m.\u001b[39mNID]\n\u001b[1;32m      <a href='vscode-notebook-cell://wsl%2Bubuntu/home/fsamir/gnn/reddit.ipynb#ch0000013vscode-remote?line=3'>4</a>\u001b[0m all_tgt_nodes \u001b[39m=\u001b[39m mfgs[\u001b[39m1\u001b[39m]\u001b[39m.\u001b[39mdstdata[dgl\u001b[39m.\u001b[39mNID]\n\u001b[0;32m----> <a href='vscode-notebook-cell://wsl%2Bubuntu/home/fsamir/gnn/reddit.ipynb#ch0000013vscode-remote?line=4'>5</a>\u001b[0m minibatch \u001b[39m=\u001b[39m construct_batch(all_tgt_nodes, all_sg_nodes, mfgs, torch\u001b[39m.\u001b[39;49mTensor(feats), torch\u001b[39m.\u001b[39;49mTensor(labels), \u001b[39m'\u001b[39;49m\u001b[39mcpu\u001b[39;49m\u001b[39m'\u001b[39;49m)\n",
      "\u001b[1;32m/home/fsamir/gnn/reddit.ipynb Cell 15\u001b[0m in \u001b[0;36mconstruct_batch\u001b[0;34m(target_nodes, subgraph_nodes, mfgs, features, labels, device)\u001b[0m\n\u001b[1;32m     <a href='vscode-notebook-cell://wsl%2Bubuntu/home/fsamir/gnn/reddit.ipynb#ch0000013vscode-remote?line=26'>27</a>\u001b[0m minibatch_labels \u001b[39m=\u001b[39m labels[target_nodes]\u001b[39m.\u001b[39munsqueeze(\u001b[39m0\u001b[39m)\n\u001b[1;32m     <a href='vscode-notebook-cell://wsl%2Bubuntu/home/fsamir/gnn/reddit.ipynb#ch0000013vscode-remote?line=27'>28</a>\u001b[0m output_node_inds \u001b[39m=\u001b[39m target_nodes\u001b[39m.\u001b[39munsqueeze(\u001b[39m0\u001b[39m)\n\u001b[0;32m---> <a href='vscode-notebook-cell://wsl%2Bubuntu/home/fsamir/gnn/reddit.ipynb#ch0000013vscode-remote?line=29'>30</a>\u001b[0m minibatch \u001b[39m=\u001b[39m TransformerGraphBundleInput(all_minibatch_feats, minibatch_labels, minibatch_adjacencies, output_node_inds)\n\u001b[1;32m     <a href='vscode-notebook-cell://wsl%2Bubuntu/home/fsamir/gnn/reddit.ipynb#ch0000013vscode-remote?line=30'>31</a>\u001b[0m \u001b[39mreturn\u001b[39;00m minibatch\n",
      "\u001b[0;31mTypeError\u001b[0m: __init__() missing 1 required positional argument: 'device'"
     ]
    }
   ],
   "source": [
    "mfgs = load_pkl_from_path(\"data/reddit_cpr/mfg\")\n",
    "all_sg_nodes = mfgs[0].srcdata[dgl.NID]\n",
    "\n",
    "all_tgt_nodes = mfgs[1].dstdata[dgl.NID]\n",
    "minibatch = construct_batch(all_tgt_nodes, all_sg_nodes, mfgs, torch.Tensor(feats), torch.Tensor(labels), 'cpu')\n"
   ]
  },
  {
   "cell_type": "code",
   "execution_count": 74,
   "metadata": {},
   "outputs": [
    {
     "name": "stderr",
     "output_type": "stream",
     "text": [
      "/home/fsamir/gnn/packages/transformer/encoder_decoder.py:142: UserWarning: nn.init.xavier_uniform is now deprecated in favor of nn.init.xavier_uniform_.\n",
      "  nn.init.xavier_uniform(p)\n"
     ]
    }
   ],
   "source": [
    "model = make_model(feats.shape[1], len(unique_labels), N=2) # TODO: do i need a +1 here?? DOn't think so."
   ]
  },
  {
   "cell_type": "code",
   "execution_count": 79,
   "metadata": {},
   "outputs": [
    {
     "ename": "RuntimeError",
     "evalue": "Expected all tensors to be on the same device, but found at least two devices, cuda:0 and cpu! (when checking argument for argument mat2 in method wrapper_mm)",
     "output_type": "error",
     "traceback": [
      "\u001b[0;31m---------------------------------------------------------------------------\u001b[0m",
      "\u001b[0;31mRuntimeError\u001b[0m                              Traceback (most recent call last)",
      "\u001b[1;32m/home/fsamir/gnn/reddit.ipynb Cell 17\u001b[0m in \u001b[0;36m<cell line: 1>\u001b[0;34m()\u001b[0m\n\u001b[0;32m----> <a href='vscode-notebook-cell://wsl%2Bubuntu/home/fsamir/gnn/reddit.ipynb#ch0000020vscode-remote?line=0'>1</a>\u001b[0m model\u001b[39m.\u001b[39;49mforward(minibatch\u001b[39m.\u001b[39;49msrc_feats, minibatch\u001b[39m.\u001b[39;49msrc_mask, minibatch\u001b[39m.\u001b[39;49mtrain_inds)\n",
      "File \u001b[0;32m~/gnn/packages/transformer/encoder_decoder.py:40\u001b[0m, in \u001b[0;36mEncoderDecoder.forward\u001b[0;34m(self, src, src_mask, train_inds)\u001b[0m\n\u001b[1;32m     30\u001b[0m \u001b[39mdef\u001b[39;00m \u001b[39mforward\u001b[39m(\u001b[39mself\u001b[39m, src: torch\u001b[39m.\u001b[39mTensor, src_mask: torch\u001b[39m.\u001b[39mTensor, train_inds: Optional[torch\u001b[39m.\u001b[39mTensor] \u001b[39m=\u001b[39m \u001b[39mNone\u001b[39;00m):\n\u001b[1;32m     31\u001b[0m     \u001b[39m\"\"\"\u001b[39;00m\n\u001b[1;32m     32\u001b[0m \u001b[39m    Args:\u001b[39;00m\n\u001b[1;32m     33\u001b[0m \u001b[39m        src (torch.Tensor): Features of each node in the graph. B x B_in x feat_D.\u001b[39;00m\n\u001b[0;32m   (...)\u001b[0m\n\u001b[1;32m     38\u001b[0m \u001b[39m        torch.Tensor: B x B_out x model_D. \u001b[39;00m\n\u001b[1;32m     39\u001b[0m \u001b[39m    \"\"\"\u001b[39;00m\n\u001b[0;32m---> 40\u001b[0m     node_embeds \u001b[39m=\u001b[39m \u001b[39mself\u001b[39m\u001b[39m.\u001b[39mencoder(\u001b[39mself\u001b[39;49m\u001b[39m.\u001b[39;49msrc_embed(src), src_mask) \u001b[39m# should have shape B x B_in x D. But I really need to check this.\u001b[39;00m\n\u001b[1;32m     41\u001b[0m     batch_size \u001b[39m=\u001b[39m src\u001b[39m.\u001b[39msize(\u001b[39m0\u001b[39m)\n\u001b[1;32m     42\u001b[0m     \u001b[39mreturn\u001b[39;00m node_embeds[torch\u001b[39m.\u001b[39marange(batch_size), train_inds]\n",
      "File \u001b[0;32m~/anaconda3/lib/python3.9/site-packages/torch/nn/modules/module.py:1110\u001b[0m, in \u001b[0;36mModule._call_impl\u001b[0;34m(self, *input, **kwargs)\u001b[0m\n\u001b[1;32m   1106\u001b[0m \u001b[39m# If we don't have any hooks, we want to skip the rest of the logic in\u001b[39;00m\n\u001b[1;32m   1107\u001b[0m \u001b[39m# this function, and just call forward.\u001b[39;00m\n\u001b[1;32m   1108\u001b[0m \u001b[39mif\u001b[39;00m \u001b[39mnot\u001b[39;00m (\u001b[39mself\u001b[39m\u001b[39m.\u001b[39m_backward_hooks \u001b[39mor\u001b[39;00m \u001b[39mself\u001b[39m\u001b[39m.\u001b[39m_forward_hooks \u001b[39mor\u001b[39;00m \u001b[39mself\u001b[39m\u001b[39m.\u001b[39m_forward_pre_hooks \u001b[39mor\u001b[39;00m _global_backward_hooks\n\u001b[1;32m   1109\u001b[0m         \u001b[39mor\u001b[39;00m _global_forward_hooks \u001b[39mor\u001b[39;00m _global_forward_pre_hooks):\n\u001b[0;32m-> 1110\u001b[0m     \u001b[39mreturn\u001b[39;00m forward_call(\u001b[39m*\u001b[39;49m\u001b[39minput\u001b[39;49m, \u001b[39m*\u001b[39;49m\u001b[39m*\u001b[39;49mkwargs)\n\u001b[1;32m   1111\u001b[0m \u001b[39m# Do not call functions when jit is used\u001b[39;00m\n\u001b[1;32m   1112\u001b[0m full_backward_hooks, non_full_backward_hooks \u001b[39m=\u001b[39m [], []\n",
      "File \u001b[0;32m~/anaconda3/lib/python3.9/site-packages/torch/nn/modules/container.py:141\u001b[0m, in \u001b[0;36mSequential.forward\u001b[0;34m(self, input)\u001b[0m\n\u001b[1;32m    139\u001b[0m \u001b[39mdef\u001b[39;00m \u001b[39mforward\u001b[39m(\u001b[39mself\u001b[39m, \u001b[39minput\u001b[39m):\n\u001b[1;32m    140\u001b[0m     \u001b[39mfor\u001b[39;00m module \u001b[39min\u001b[39;00m \u001b[39mself\u001b[39m:\n\u001b[0;32m--> 141\u001b[0m         \u001b[39minput\u001b[39m \u001b[39m=\u001b[39m module(\u001b[39minput\u001b[39;49m)\n\u001b[1;32m    142\u001b[0m     \u001b[39mreturn\u001b[39;00m \u001b[39minput\u001b[39m\n",
      "File \u001b[0;32m~/anaconda3/lib/python3.9/site-packages/torch/nn/modules/module.py:1110\u001b[0m, in \u001b[0;36mModule._call_impl\u001b[0;34m(self, *input, **kwargs)\u001b[0m\n\u001b[1;32m   1106\u001b[0m \u001b[39m# If we don't have any hooks, we want to skip the rest of the logic in\u001b[39;00m\n\u001b[1;32m   1107\u001b[0m \u001b[39m# this function, and just call forward.\u001b[39;00m\n\u001b[1;32m   1108\u001b[0m \u001b[39mif\u001b[39;00m \u001b[39mnot\u001b[39;00m (\u001b[39mself\u001b[39m\u001b[39m.\u001b[39m_backward_hooks \u001b[39mor\u001b[39;00m \u001b[39mself\u001b[39m\u001b[39m.\u001b[39m_forward_hooks \u001b[39mor\u001b[39;00m \u001b[39mself\u001b[39m\u001b[39m.\u001b[39m_forward_pre_hooks \u001b[39mor\u001b[39;00m _global_backward_hooks\n\u001b[1;32m   1109\u001b[0m         \u001b[39mor\u001b[39;00m _global_forward_hooks \u001b[39mor\u001b[39;00m _global_forward_pre_hooks):\n\u001b[0;32m-> 1110\u001b[0m     \u001b[39mreturn\u001b[39;00m forward_call(\u001b[39m*\u001b[39;49m\u001b[39minput\u001b[39;49m, \u001b[39m*\u001b[39;49m\u001b[39m*\u001b[39;49mkwargs)\n\u001b[1;32m   1111\u001b[0m \u001b[39m# Do not call functions when jit is used\u001b[39;00m\n\u001b[1;32m   1112\u001b[0m full_backward_hooks, non_full_backward_hooks \u001b[39m=\u001b[39m [], []\n",
      "File \u001b[0;32m~/gnn/packages/transformer/encoder_decoder.py:116\u001b[0m, in \u001b[0;36mNodeEmbedding.forward\u001b[0;34m(self, x)\u001b[0m\n\u001b[1;32m    115\u001b[0m \u001b[39mdef\u001b[39;00m \u001b[39mforward\u001b[39m(\u001b[39mself\u001b[39m, x):\n\u001b[0;32m--> 116\u001b[0m     \u001b[39mreturn\u001b[39;00m \u001b[39mself\u001b[39;49m\u001b[39m.\u001b[39;49minput_to_h(x) \u001b[39m*\u001b[39m math\u001b[39m.\u001b[39msqrt(\u001b[39mself\u001b[39m\u001b[39m.\u001b[39md_model)\n",
      "File \u001b[0;32m~/anaconda3/lib/python3.9/site-packages/torch/nn/modules/module.py:1110\u001b[0m, in \u001b[0;36mModule._call_impl\u001b[0;34m(self, *input, **kwargs)\u001b[0m\n\u001b[1;32m   1106\u001b[0m \u001b[39m# If we don't have any hooks, we want to skip the rest of the logic in\u001b[39;00m\n\u001b[1;32m   1107\u001b[0m \u001b[39m# this function, and just call forward.\u001b[39;00m\n\u001b[1;32m   1108\u001b[0m \u001b[39mif\u001b[39;00m \u001b[39mnot\u001b[39;00m (\u001b[39mself\u001b[39m\u001b[39m.\u001b[39m_backward_hooks \u001b[39mor\u001b[39;00m \u001b[39mself\u001b[39m\u001b[39m.\u001b[39m_forward_hooks \u001b[39mor\u001b[39;00m \u001b[39mself\u001b[39m\u001b[39m.\u001b[39m_forward_pre_hooks \u001b[39mor\u001b[39;00m _global_backward_hooks\n\u001b[1;32m   1109\u001b[0m         \u001b[39mor\u001b[39;00m _global_forward_hooks \u001b[39mor\u001b[39;00m _global_forward_pre_hooks):\n\u001b[0;32m-> 1110\u001b[0m     \u001b[39mreturn\u001b[39;00m forward_call(\u001b[39m*\u001b[39;49m\u001b[39minput\u001b[39;49m, \u001b[39m*\u001b[39;49m\u001b[39m*\u001b[39;49mkwargs)\n\u001b[1;32m   1111\u001b[0m \u001b[39m# Do not call functions when jit is used\u001b[39;00m\n\u001b[1;32m   1112\u001b[0m full_backward_hooks, non_full_backward_hooks \u001b[39m=\u001b[39m [], []\n",
      "File \u001b[0;32m~/anaconda3/lib/python3.9/site-packages/torch/nn/modules/linear.py:103\u001b[0m, in \u001b[0;36mLinear.forward\u001b[0;34m(self, input)\u001b[0m\n\u001b[1;32m    102\u001b[0m \u001b[39mdef\u001b[39;00m \u001b[39mforward\u001b[39m(\u001b[39mself\u001b[39m, \u001b[39minput\u001b[39m: Tensor) \u001b[39m-\u001b[39m\u001b[39m>\u001b[39m Tensor:\n\u001b[0;32m--> 103\u001b[0m     \u001b[39mreturn\u001b[39;00m F\u001b[39m.\u001b[39;49mlinear(\u001b[39minput\u001b[39;49m, \u001b[39mself\u001b[39;49m\u001b[39m.\u001b[39;49mweight, \u001b[39mself\u001b[39;49m\u001b[39m.\u001b[39;49mbias)\n",
      "\u001b[0;31mRuntimeError\u001b[0m: Expected all tensors to be on the same device, but found at least two devices, cuda:0 and cpu! (when checking argument for argument mat2 in method wrapper_mm)"
     ]
    }
   ],
   "source": [
    "model.forward(minibatch.src_feats, minibatch.src_mask, minibatch.train_inds)"
   ]
  },
  {
   "cell_type": "code",
   "execution_count": 32,
   "metadata": {},
   "outputs": [],
   "source": [
    "adj_sparse = convert_scipy_sparse_to_torch(adj_sparse, 'cpu')"
   ]
  },
  {
   "cell_type": "code",
   "execution_count": 33,
   "metadata": {},
   "outputs": [
    {
     "ename": "",
     "evalue": "",
     "output_type": "error",
     "traceback": [
      "\u001b[1;31mCanceled future for execute_request message before replies were done"
     ]
    },
    {
     "ename": "",
     "evalue": "",
     "output_type": "error",
     "traceback": [
      "\u001b[1;31mThe Kernel crashed while executing code in the the current cell or a previous cell. Please review the code in the cell(s) to identify a possible cause of the failure. Click <a href='https://aka.ms/vscodeJupyterKernelCrash'>here</a> for more info. View Jupyter <a href='command:jupyter.viewOutput'>log</a> for further details."
     ]
    }
   ],
   "source": [
    "minibatch = construct_batch(output_nodes, input_nodes, mfgs, adj_sparse, feats, 'cpu')"
   ]
  },
  {
   "cell_type": "code",
   "execution_count": null,
   "metadata": {},
   "outputs": [],
   "source": []
  }
 ],
 "metadata": {
  "kernelspec": {
   "display_name": "Python 3.9.12 ('base')",
   "language": "python",
   "name": "python3"
  },
  "language_info": {
   "codemirror_mode": {
    "name": "ipython",
    "version": 3
   },
   "file_extension": ".py",
   "mimetype": "text/x-python",
   "name": "python",
   "nbconvert_exporter": "python",
   "pygments_lexer": "ipython3",
   "version": "3.9.12"
  },
  "orig_nbformat": 4,
  "vscode": {
   "interpreter": {
    "hash": "d4ebfc88ccd97cb231efe00c7198020b2ae0235bcff1ce31852dbbe06876d933"
   }
  }
 },
 "nbformat": 4,
 "nbformat_minor": 2
}
